{
 "cells": [
  {
   "cell_type": "code",
   "execution_count": 44,
   "metadata": {},
   "outputs": [],
   "source": [
    "import torch\n",
    "import torch.nn as nn\n",
    "import torchvision.datasets as datsets\n",
    "from torch.utils.data import DataLoader,Dataset\n",
    "import torchvision.transforms as transforms\n",
    "%matplotlib inline\n",
    "import matplotlib.pyplot as plt\n",
    "import numpy as np\n",
    "import torchvision.utils as vutils"
   ]
  },
  {
   "cell_type": "code",
   "execution_count": 46,
   "metadata": {},
   "outputs": [],
   "source": [
    "dataset_address = \"data\"\n",
    "workers = 2\n",
    "\n",
    "batch_size = 128\n",
    "image_size = 64\n",
    "\n",
    "\n",
    "nc = 3\n",
    "nz = 100\n",
    "ngf = 64\n",
    "ndf = 64\n",
    "num_epochs = 5\n",
    "lr = 0.0002\n",
    "beta1 = 0.5"
   ]
  },
  {
   "cell_type": "code",
   "execution_count": 47,
   "metadata": {},
   "outputs": [],
   "source": [
    "trans = transforms.Compose([\n",
    "    transforms.Resize(image_size),\n",
    "    transforms.CenterCrop(image_size),\n",
    "    transforms.ToTensor(),\n",
    "    transforms.Normalize((0.5 , 0.5 , 0.5) , (0.5 , 0.5 , 0.5))\n",
    "])\n",
    "\n",
    "dataset = datsets.ImageFolder(dataset_address , transform=trans)\n",
    "\n",
    "data_loader = DataLoader(dataset,batch_size=batch_size , num_workers=workers , shuffle=True)"
   ]
  },
  {
   "cell_type": "code",
   "execution_count": null,
   "metadata": {},
   "outputs": [],
   "source": [
    "example_data = next(iter(data_loader))\n",
    "\n",
    "for i in range(64):\n",
    "    plt.subplot(8,8,i+1)\n",
    "    plt.imshow(np.transpose(example_data[0][i].numpy()))\n",
    "\n",
    "plt.axis(\"off\")\n",
    "plt.savefig(\"outputs/example data.png\")\n",
    "plt.show()"
   ]
  },
  {
   "cell_type": "code",
   "execution_count": 49,
   "metadata": {},
   "outputs": [
    {
     "data": {
      "text/plain": [
       "device(type='cpu')"
      ]
     },
     "execution_count": 49,
     "metadata": {},
     "output_type": "execute_result"
    }
   ],
   "source": [
    "device = torch.device(\"cuda\" if torch.cuda.is_available() else \"cpu\")\n",
    "device"
   ]
  },
  {
   "cell_type": "code",
   "execution_count": 67,
   "metadata": {},
   "outputs": [],
   "source": [
    "class Generator(nn.Module):\n",
    "    def __init__(self , num_z , num_feature , num_chanels):\n",
    "        super(Generator,self).__init__()\n",
    "        self.net = nn.Sequential(\n",
    "            nn.ConvTranspose2d(num_z , num_feature*8 , 4,1,0, bias=False),\n",
    "            nn.BatchNorm2d(num_feature*8),\n",
    "            nn.ReLU(True),\n",
    "\n",
    "            nn.ConvTranspose2d(num_feature*8 , num_feature*4 , 4,2,1, bias=False),\n",
    "            nn.BatchNorm2d(num_feature*4),\n",
    "            nn.ReLU(True),\n",
    "\n",
    "            nn.ConvTranspose2d(num_feature*4 , num_feature*2 , 4,2,1, bias=False),\n",
    "            nn.BatchNorm2d(num_feature*2),\n",
    "            nn.ReLU(True),\n",
    "\n",
    "            nn.ConvTranspose2d(num_feature*2 , num_feature , 4,2,1, bias=False),\n",
    "            nn.BatchNorm2d(num_feature),\n",
    "            nn.ReLU(True),\n",
    "\n",
    "            nn.ConvTranspose2d(num_feature , num_chanels , 4,2,1, bias=False),\n",
    "            nn.Tanh()\n",
    "        )\n",
    "\n",
    "    def forward(self , x):\n",
    "        return self.net(x)"
   ]
  },
  {
   "cell_type": "code",
   "execution_count": 51,
   "metadata": {},
   "outputs": [],
   "source": [
    "class Discriminator(nn.Module):\n",
    "    def __init__(self,number_of_chanels , num_features):\n",
    "        super(Discriminator , self).__init__()\n",
    "        self.net = nn.Sequential(\n",
    "            nn.Conv2d(number_of_chanels , num_features , 4,2,1 , bias=False),\n",
    "            nn.LeakyReLU(0.2 , inplace=True),\n",
    "            \n",
    "            nn.Conv2d(num_features , num_features*2,4,2,1, bias=False),\n",
    "            nn.BatchNorm2d(num_features*2),\n",
    "            nn.LeakyReLU(0.2 , inplace=True),\n",
    "\n",
    "            nn.Conv2d(num_features*2 , num_features*4,4,2,1, bias=False),\n",
    "            nn.BatchNorm2d(num_features*4),\n",
    "            nn.LeakyReLU(0.2 , inplace=True),\n",
    "\n",
    "            nn.Conv2d(num_features*4 , num_features*8,4,2,1, bias=False),\n",
    "            nn.BatchNorm2d(num_features*8),\n",
    "            nn.LeakyReLU(0.2 , inplace=True),\n",
    "\n",
    "            nn.Conv2d(num_features*8 ,1,4,1,0, bias=False),\n",
    "            \n",
    "            nn.Sigmoid()\n",
    "\n",
    "        )\n",
    "        \n",
    "    def forward(self, x):\n",
    "        return self.net(x)"
   ]
  },
  {
   "cell_type": "code",
   "execution_count": 68,
   "metadata": {},
   "outputs": [],
   "source": [
    "netG = Generator(nz,ngf,nc)\n",
    "\n",
    "netD = Discriminator(nc , ndf )\n"
   ]
  },
  {
   "cell_type": "code",
   "execution_count": 69,
   "metadata": {},
   "outputs": [],
   "source": [
    "netD = netD.to(device)\n",
    "netG = netG.to(device)"
   ]
  },
  {
   "cell_type": "code",
   "execution_count": 70,
   "metadata": {},
   "outputs": [],
   "source": [
    "criterion = nn.BCELoss()\n",
    "\n",
    "real_label = 1\n",
    "fake_label = 0\n",
    "\n",
    "test_input = torch.randn(64 , nz ,1,1 ).to(device)\n",
    "\n",
    "optimizerD = torch.optim.Adam(netD.parameters(), lr=0.001)\n",
    "optimizerG = torch.optim.Adam(netG.parameters(), lr=0.001)"
   ]
  },
  {
   "cell_type": "code",
   "execution_count": 71,
   "metadata": {},
   "outputs": [
    {
     "name": "stdout",
     "output_type": "stream",
     "text": [
      "Starting Training Loop...\n",
      "[0/5][0/1583]\tLoss_D: 1.6196\tLoss_G: 8.3178\tD(x): 0.4075\tD(G(z)): 0.4965 / 0.0003\n",
      "[0/5][50/1583]\tLoss_D: 0.1346\tLoss_G: 10.3787\tD(x): 0.9609\tD(G(z)): 0.0467 / 0.0001\n",
      "[0/5][100/1583]\tLoss_D: 0.0050\tLoss_G: 12.8615\tD(x): 0.9991\tD(G(z)): 0.0041 / 0.0000\n",
      "[0/5][150/1583]\tLoss_D: 0.0490\tLoss_G: 8.5406\tD(x): 0.9797\tD(G(z)): 0.0068 / 0.0003\n",
      "[0/5][200/1583]\tLoss_D: 0.0023\tLoss_G: 11.3047\tD(x): 0.9989\tD(G(z)): 0.0012 / 0.0000\n",
      "[0/5][250/1583]\tLoss_D: 0.0955\tLoss_G: 16.5720\tD(x): 0.9998\tD(G(z)): 0.0476 / 0.0000\n",
      "[0/5][300/1583]\tLoss_D: 0.0078\tLoss_G: 14.4703\tD(x): 0.9940\tD(G(z)): 0.0006 / 0.0000\n",
      "[0/5][350/1583]\tLoss_D: 0.0416\tLoss_G: 12.8190\tD(x): 0.9909\tD(G(z)): 0.0291 / 0.0000\n",
      "[0/5][400/1583]\tLoss_D: 0.0080\tLoss_G: 11.6267\tD(x): 0.9959\tD(G(z)): 0.0027 / 0.0000\n",
      "[0/5][450/1583]\tLoss_D: 0.0594\tLoss_G: 7.2262\tD(x): 0.9948\tD(G(z)): 0.0425 / 0.0057\n",
      "[0/5][500/1583]\tLoss_D: 0.0075\tLoss_G: 14.6776\tD(x): 0.9931\tD(G(z)): 0.0002 / 0.0000\n",
      "[0/5][550/1583]\tLoss_D: 0.0191\tLoss_G: 9.0589\tD(x): 0.9940\tD(G(z)): 0.0115 / 0.0014\n",
      "[0/5][600/1583]\tLoss_D: 0.0025\tLoss_G: 10.7664\tD(x): 0.9983\tD(G(z)): 0.0007 / 0.0001\n",
      "[0/5][650/1583]\tLoss_D: 0.0493\tLoss_G: 9.1503\tD(x): 0.9653\tD(G(z)): 0.0064 / 0.0007\n",
      "[0/5][700/1583]\tLoss_D: 0.0008\tLoss_G: 12.1690\tD(x): 0.9997\tD(G(z)): 0.0006 / 0.0001\n",
      "[0/5][750/1583]\tLoss_D: 0.0760\tLoss_G: 8.6495\tD(x): 0.9742\tD(G(z)): 0.0241 / 0.0112\n",
      "[0/5][800/1583]\tLoss_D: 0.0084\tLoss_G: 10.7763\tD(x): 0.9995\tD(G(z)): 0.0076 / 0.0003\n",
      "[0/5][850/1583]\tLoss_D: 0.0015\tLoss_G: 10.8232\tD(x): 0.9995\tD(G(z)): 0.0010 / 0.0001\n",
      "[0/5][900/1583]\tLoss_D: 0.0291\tLoss_G: 7.2454\tD(x): 1.0000\tD(G(z)): 0.0217 / 0.0822\n",
      "[0/5][950/1583]\tLoss_D: 0.0574\tLoss_G: 8.4587\tD(x): 0.9963\tD(G(z)): 0.0401 / 0.0028\n",
      "[0/5][1000/1583]\tLoss_D: 0.0047\tLoss_G: 10.4426\tD(x): 0.9960\tD(G(z)): 0.0006 / 0.0001\n",
      "[0/5][1050/1583]\tLoss_D: 0.0474\tLoss_G: 13.7523\tD(x): 0.9982\tD(G(z)): 0.0312 / 0.0000\n",
      "[0/5][1100/1583]\tLoss_D: 0.0280\tLoss_G: 9.9362\tD(x): 0.9864\tD(G(z)): 0.0021 / 0.0006\n"
     ]
    }
   ],
   "source": [
    "img_list = []\n",
    "G_losses = []\n",
    "D_losses = []\n",
    "iters = 0\n",
    "\n",
    "print(\"Starting Training Loop...\")\n",
    "\n",
    "for epoch in range(num_epochs):\n",
    "    for i, data in enumerate(data_loader, 0):\n",
    "\n",
    "        netD.zero_grad()\n",
    "        real_cpu = data[0].to(device)\n",
    "        b_size = real_cpu.size(0)\n",
    "        label = torch.full((b_size,), real_label, dtype=torch.float, device=device)\n",
    "        output = netD(real_cpu).view(-1)\n",
    "        errD_real = criterion(output, label)\n",
    "        errD_real.backward()\n",
    "        D_x = output.mean().item()\n",
    "\n",
    "\n",
    "\n",
    "        noise = torch.randn(b_size, nz, 1, 1, device=device)\n",
    "        fake = netG(noise)\n",
    "        label.fill_(fake_label)\n",
    "        output = netD(fake.detach()).view(-1)\n",
    "        errD_fake = criterion(output, label)\n",
    "        \n",
    "        errD_fake.backward()\n",
    "        D_G_z1 = output.mean().item()\n",
    "        \n",
    "\n",
    "\n",
    "        errD = errD_real + errD_fake\n",
    "        optimizerD.step()\n",
    "\n",
    "\n",
    "        netG.zero_grad()\n",
    "        label.fill_(real_label) \n",
    "        output = netD(fake).view(-1)\n",
    "        errG = criterion(output, label)\n",
    "        errG.backward()\n",
    "        D_G_z2 = output.mean().item()\n",
    "        optimizerG.step()\n",
    "\n",
    "        if i % 70 == 0:\n",
    "            print('[%d/%d][%d/%d]\\tLoss_D: %.4f\\tLoss_G: %.4f\\tD(x): %.4f\\tD(G(z)): %.4f / %.4f'\n",
    "                  % (epoch, num_epochs, i, len(data_loader),\n",
    "                     errD.item(), errG.item(), D_x, D_G_z1, D_G_z2))\n",
    "\n",
    "        G_losses.append(errG.item())\n",
    "        D_losses.append(errD.item())\n",
    "\n",
    "        if (iters % 500 == 0) or ((epoch == num_epochs-1) and (i == len(data_loader)-1)):\n",
    "            with torch.no_grad():\n",
    "                fake = netG(test_input).detach().cpu()\n",
    "            img_list.append(vutils.make_grid(fake, padding=2, normalize=True))\n",
    "\n",
    "        iters += 1"
   ]
  }
 ],
 "metadata": {
  "kernelspec": {
   "display_name": "Python 3",
   "language": "python",
   "name": "python3"
  },
  "language_info": {
   "codemirror_mode": {
    "name": "ipython",
    "version": 3
   },
   "file_extension": ".py",
   "mimetype": "text/x-python",
   "name": "python",
   "nbconvert_exporter": "python",
   "pygments_lexer": "ipython3",
   "version": "3.10.9"
  },
  "orig_nbformat": 4
 },
 "nbformat": 4,
 "nbformat_minor": 2
}
